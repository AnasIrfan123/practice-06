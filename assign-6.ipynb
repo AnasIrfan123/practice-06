{
 "cells": [
  {
   "cell_type": "markdown",
   "id": "e240143b-c1aa-48e9-8053-5316a0dab626",
   "metadata": {},
   "source": [
    "## Equations\n",
    "\n",
    "#### Hisab ka Rule: => BODMAS\n",
    "\n",
    "Bracket of Order-power ** Divide Multiplication Addition & Subtraction"
   ]
  },
  {
   "cell_type": "code",
   "execution_count": 46,
   "id": "487c6a5c-4db3-4466-91e5-814942765bc2",
   "metadata": {},
   "outputs": [
    {
     "data": {
      "text/plain": [
       "6.615384615384615"
      ]
     },
     "execution_count": 46,
     "metadata": {},
     "output_type": "execute_result"
    }
   ],
   "source": [
    " (100 - (5*6) + 4**2) / ((27 / 3) + (2 * 2)) # bodmas\n",
    "\n",
    "# Hisab kitab (Calculation):\n",
    "\n",
    "# Sab se pehle (5 * 6) हल hoga, jo ke 30 hai.\n",
    "\n",
    "# Phir 4**2 हल hoga, jo ke 16 (exponent yani 4 ka square) hai.\n",
    "\n",
    "# 100 − 30 + 16 \n",
    "\n",
    "# Ab left to right arithmetic hoga (subtraction aur addition same priority hain)   \n",
    "\n",
    "# 100 -30 = 70\n",
    "\n",
    "# 70 + 16 = 86\n",
    "\n",
    "# phly ye wla bracket (27 / 3) = 9.0  + then 2nd ( 2 * 2 ) = 4\n",
    "\n",
    "# 9 + 4\n",
    "\n",
    "# Ab expression yeh ban jayega: 86 / ( 9 + 4) .  \n",
    "\n",
    "# phly bracket 13 Aakhir mein division hogi: 86 / 13 ka jawab 6.615384615384615 hai."
   ]
  },
  {
   "cell_type": "code",
   "execution_count": 48,
   "id": "86bfa993-0e6b-4162-9419-28b0396717b0",
   "metadata": {},
   "outputs": [
    {
     "data": {
      "text/plain": [
       "72.0"
      ]
     },
     "execution_count": 48,
     "metadata": {},
     "output_type": "execute_result"
    }
   ],
   "source": [
    "40.5 * 2 - ( (25 + 11) / (3**2 - 5) )\n",
    "#          9.0        36          4"
   ]
  },
  {
   "cell_type": "code",
   "execution_count": 13,
   "id": "36a972f3-1d22-4ea6-8e11-236292b065cf",
   "metadata": {},
   "outputs": [
    {
     "data": {
      "text/plain": [
       "58.0"
      ]
     },
     "execution_count": 13,
     "metadata": {},
     "output_type": "execute_result"
    }
   ],
   "source": [
    "((300 % 13) + 9) * (2 + 3**3) / 5\n",
    "#       10 *            29 / 5"
   ]
  },
  {
   "cell_type": "code",
   "execution_count": 9,
   "id": "33d4d4e2-d525-4c7d-b791-5bc4ccbd9349",
   "metadata": {},
   "outputs": [
    {
     "data": {
      "text/plain": [
       "52.0"
      ]
     },
     "execution_count": 9,
     "metadata": {},
     "output_type": "execute_result"
    }
   ],
   "source": [
    "  ((5*2)**2) - (((64/8) + (9 % 5)) * (7 - 3)) # bodmas\n",
    "# (10 **2) -   (( 8.0 +     4)     * (7 -3) )\n",
    "#               (   12.0 *              4 )\n",
    "#      100             48.0   # = 52.0"
   ]
  },
  {
   "cell_type": "code",
   "execution_count": 20,
   "id": "dc9017d8-15ef-4b35-be6f-805a90e99cd1",
   "metadata": {},
   "outputs": [
    {
     "data": {
      "text/plain": [
       "9.5"
      ]
     },
     "execution_count": 20,
     "metadata": {},
     "output_type": "execute_result"
    }
   ],
   "source": [
    " ((((3**3) + (16/4)) * 2) - (50 / (5*2))) / (7 - (9 % 4))\n",
    "# ((( 27   + (16/4)) * 2) - (50/ (5*2))) / (7 - (9%4) )\n",
    "# ((( 27  +   4.0 ) * 2 ) - ( 50/(5*2))) / (7 - (9%4))\n",
    "# ((   31.0 * 2 ) - 5.0 ) / ( 7 - 1)   = answer 9.5"
   ]
  },
  {
   "cell_type": "markdown",
   "id": "17bc6c21-c386-40e5-9975-566b829ca07a",
   "metadata": {},
   "source": [
    "## Arithmetic Operators\n",
    "So, there are 7 categories/kinds of Arithmetic operators in Python."
   ]
  },
  {
   "cell_type": "code",
   "execution_count": 1,
   "id": "6423fd05-2135-4c61-9f3b-f31e058d71af",
   "metadata": {},
   "outputs": [
    {
     "data": {
      "text/plain": [
       "8.8"
      ]
     },
     "execution_count": 1,
     "metadata": {},
     "output_type": "execute_result"
    }
   ],
   "source": [
    "# + → Addition\n",
    "5 + 3.8        # Answer = 8.8 "
   ]
  },
  {
   "cell_type": "code",
   "execution_count": 2,
   "id": "f02b687e-992a-4890-b68f-99a60d2746d9",
   "metadata": {},
   "outputs": [
    {
     "data": {
      "text/plain": [
       "1.2000000000000002"
      ]
     },
     "execution_count": 2,
     "metadata": {},
     "output_type": "execute_result"
    }
   ],
   "source": [
    "# - → Subtraction\n",
    "5 - 3.8        # Answer = "
   ]
  },
  {
   "cell_type": "code",
   "execution_count": 3,
   "id": "c0e121a0-0a41-4387-a1e4-4c8a06bf75bf",
   "metadata": {},
   "outputs": [
    {
     "data": {
      "text/plain": [
       "60"
      ]
     },
     "execution_count": 3,
     "metadata": {},
     "output_type": "execute_result"
    }
   ],
   "source": [
    "# * → Multiplication\n",
    "5 * 12       # Answer = 60"
   ]
  },
  {
   "cell_type": "code",
   "execution_count": 4,
   "id": "539b61c2-38b8-4883-a435-a513acde4b0e",
   "metadata": {},
   "outputs": [
    {
     "data": {
      "text/plain": [
       "2.5"
      ]
     },
     "execution_count": 4,
     "metadata": {},
     "output_type": "execute_result"
    }
   ],
   "source": [
    "# / → Division (always returns float)\n",
    "10 / 4.0000  # Answer = "
   ]
  },
  {
   "cell_type": "code",
   "execution_count": 18,
   "id": "a74b5f6f-0fb5-4c8b-84d9-cf9852c62941",
   "metadata": {},
   "outputs": [
    {
     "data": {
      "text/plain": [
       "1"
      ]
     },
     "execution_count": 18,
     "metadata": {},
     "output_type": "execute_result"
    }
   ],
   "source": [
    "# % → Modulus (Remainder)\n",
    "5 % 2"
   ]
  },
  {
   "cell_type": "code",
   "execution_count": 11,
   "id": "46908e7e-6d28-4812-b7eb-b11bc4815dd6",
   "metadata": {},
   "outputs": [
    {
     "name": "stdout",
     "output_type": "stream",
     "text": [
      "244140625\n",
      "25\n",
      "9\n"
     ]
    }
   ],
   "source": [
    "# ** → Exponentiation (Power)\n",
    "print( 5 ** 12 )  # Answer = \n",
    "print( 5 ** 2 )\n",
    "print( 3 ** 2 )"
   ]
  },
  {
   "cell_type": "code",
   "execution_count": 21,
   "id": "8fa755e5-9c4b-4304-91d7-59f31e9ab4dc",
   "metadata": {},
   "outputs": [
    {
     "data": {
      "text/plain": [
       "1"
      ]
     },
     "execution_count": 21,
     "metadata": {},
     "output_type": "execute_result"
    }
   ],
   "source": [
    "# // → Floor Division (Quotient without decimal)\n",
    "5 // 4  # Answer = "
   ]
  },
  {
   "cell_type": "markdown",
   "id": "197dd28f-306c-46c1-b93e-b61296614870",
   "metadata": {},
   "source": [
    "## Comparison Operators in Python\n",
    "\n",
    "#### There are 6 main comparison operators:\n",
    "(1) == , (2) != , (3) < , (4) > , (5) <= , (6) >="
   ]
  },
  {
   "cell_type": "code",
   "execution_count": 31,
   "id": "938d8d93-8fa8-473b-8e99-99f5f3094eb2",
   "metadata": {},
   "outputs": [
    {
     "name": "stdout",
     "output_type": "stream",
     "text": [
      "True\n",
      "False\n"
     ]
    }
   ],
   "source": [
    "# == → Equal to\n",
    "\n",
    "a = 2\n",
    "b = 2.000\n",
    "\n",
    "print(a == b)\n",
    "print(3 == 5)"
   ]
  },
  {
   "cell_type": "code",
   "execution_count": 33,
   "id": "f4451e4a-cd22-44e1-9172-da500d45d1de",
   "metadata": {},
   "outputs": [
    {
     "data": {
      "text/plain": [
       "True"
      ]
     },
     "execution_count": 33,
     "metadata": {},
     "output_type": "execute_result"
    }
   ],
   "source": [
    "# != → Not equal to\n",
    "\n",
    "# 2 != 2  # false\n",
    "5 != 6"
   ]
  },
  {
   "cell_type": "code",
   "execution_count": 37,
   "id": "eeb22f0b-ce1c-4275-a264-6d71b3d14150",
   "metadata": {},
   "outputs": [
    {
     "data": {
      "text/plain": [
       "True"
      ]
     },
     "execution_count": 37,
     "metadata": {},
     "output_type": "execute_result"
    }
   ],
   "source": [
    "# < → Less than\n",
    "\n",
    "# a < b  # = false\n",
    "# 2 < 1    # = false   ( 2 chota nh ha 1 sy \n",
    "10 < 22  # true  ( 10 chota ha 22 say"
   ]
  },
  {
   "cell_type": "code",
   "execution_count": 40,
   "id": "3fae5ac7-1ea5-4ff0-bc6d-d5ab38a17634",
   "metadata": {},
   "outputs": [
    {
     "data": {
      "text/plain": [
       "False"
      ]
     },
     "execution_count": 40,
     "metadata": {},
     "output_type": "execute_result"
    }
   ],
   "source": [
    "# > → Greater than\n",
    "\n",
    "# a > b    #   a variable or b yani 2 bra nh ha 2.00 say # false\n",
    "10 > 5    #   true\n",
    "2 > 2.1"
   ]
  },
  {
   "cell_type": "code",
   "execution_count": 46,
   "id": "276ad6fc-9d99-4c3b-94e5-73ba5f2a13f7",
   "metadata": {},
   "outputs": [
    {
     "data": {
      "text/plain": [
       "False"
      ]
     },
     "execution_count": 46,
     "metadata": {},
     "output_type": "execute_result"
    }
   ],
   "source": [
    "# <= → Less than or equal to\n",
    "\n",
    "# 2 <= 2   # true\n",
    "# 2 <= 1   # false    2 are not equal and small into 1 \n",
    "# 1 <= 2  # true    #   if 1st condition is correct then return true (1st & 2nd are false then return the false)\n",
    "# 5 <= 5   # True   #  1st condition is correct return the true     5 equal into 5 value  \n",
    "# 4 <= 5   # True   #   4 value is small 5 value return true\n",
    "6 <= 5   # False    #  2 condit are false return the false  \n"
   ]
  },
  {
   "cell_type": "code",
   "execution_count": 49,
   "id": "ab04e464-0e32-43d7-a142-cfbd453ca610",
   "metadata": {},
   "outputs": [
    {
     "data": {
      "text/plain": [
       "False"
      ]
     },
     "execution_count": 49,
     "metadata": {},
     "output_type": "execute_result"
    }
   ],
   "source": [
    "# >= → Greater than or equal to\n",
    "\n",
    "# 5 >= 5   # True  #  1st false 2nd true then return the true\n",
    "# 6 >= 5   # True\n",
    "4 >= 5   # False\n"
   ]
  },
  {
   "cell_type": "markdown",
   "id": "d6c09ee7-8f3f-4cab-811a-0314b384e6b2",
   "metadata": {},
   "source": [
    "### 3. Logical Operators \n",
    "\n",
    "and , or , not\n",
    "\n",
    "Logical operators allow you to combine multiple conditions into one complex condition. These operators are commonly used to combine relational conditions and make decisions based on multiple criteria."
   ]
  },
  {
   "cell_type": "code",
   "execution_count": 22,
   "id": "220b0afa-1801-4225-af5c-bdb2e5358c34",
   "metadata": {},
   "outputs": [
    {
     "name": "stdout",
     "output_type": "stream",
     "text": [
      "True\n",
      "False\n",
      "False\n"
     ]
    },
    {
     "data": {
      "text/plain": [
       "False"
      ]
     },
     "execution_count": 22,
     "metadata": {},
     "output_type": "execute_result"
    }
   ],
   "source": [
    "# 1) Using and opertor\n",
    "\n",
    "# Write a Python expression that checks if:\n",
    "# age is greater than 18 and less than 30.\n",
    "\n",
    "age = 20\n",
    "\n",
    "print(age > 18 and age < 30) # true & true = true  1st is true & 2nd is true return the true\n",
    "print(age > 28 and age < 30) # false & true = false    1st is negative 2nd is positive return the false\n",
    "print(age > 20 and age < 20) \n",
    "\n",
    "11 > 9 and (9 > 4 and 5 < 2) # true -> true -> false = false"
   ]
  },
  {
   "cell_type": "code",
   "execution_count": 31,
   "id": "f2813e0e-5b69-49a8-954c-a11d74841df0",
   "metadata": {},
   "outputs": [
    {
     "name": "stdout",
     "output_type": "stream",
     "text": [
      "True\n",
      "False\n"
     ]
    },
    {
     "data": {
      "text/plain": [
       "False"
      ]
     },
     "execution_count": 31,
     "metadata": {},
     "output_type": "execute_result"
    }
   ],
   "source": [
    "# Q2: Using or opertor\n",
    "\n",
    "# Suppose:\n",
    "# Check if day is \"Saturday\" or \"Sunday\".\n",
    "day = \"Sunday\"\n",
    "\n",
    "print(day == \"Sunday\" or day != \"Sunday\") # 1st is true 2nd is false  return true\n",
    "\n",
    "print(day == \"tuesday\" or day == \"Saturday\") # 1st 2nd is false = false \n",
    "\n",
    "# koe 1 condition kay true hony par return true krdega\n",
    "\n",
    "11 > 9 and (9 > 4 or 5 < 2) # true -> true -> false = true   {uper yahi and operat me false hoa or opert me true ha}\n",
    "3 > 10 or 900 < 190    # false -> false = false "
   ]
  },
  {
   "cell_type": "code",
   "execution_count": 59,
   "id": "ab5dbeab-44dd-43d3-b838-335527a6e19f",
   "metadata": {},
   "outputs": [
    {
     "name": "stdout",
     "output_type": "stream",
     "text": [
      "Take an Umbrella\n"
     ]
    }
   ],
   "source": [
    "# Q3: Using not operator      [not operator reverse show krta ha true hoga tw false show krdega ]\n",
    "\n",
    "is_raining = False\n",
    "is_raining2 = True\n",
    "# Write a condition that prints \"Take an umbrella\" only if it is not raining.\n",
    "\n",
    "if not is_raining2:   # if not True: → if False:\n",
    "    print(\"take an umbrella\")        # Jab condition False hoti hai, print statement run nahi hoti.\n",
    "\n",
    "if not is_raining:  # if true ha \n",
    "    print(\"Take an Umbrella\")       # RUN THIS PRINT "
   ]
  },
  {
   "cell_type": "code",
   "execution_count": 37,
   "id": "8b8bef84-41b9-4457-a022-3e20b44741d8",
   "metadata": {},
   "outputs": [
    {
     "name": "stdout",
     "output_type": "stream",
     "text": [
      "True\n",
      "False\n",
      "False\n",
      "True\n"
     ]
    }
   ],
   "source": [
    "print( not 3 > 4) # False (kyunki 3 chhota hai 4 se) =  return true  [show the reverse answer]\n",
    "\n",
    "print(not 10 > 1) # True (10 bra ha 1 sy) = return false \n",
    "\n",
    "print(not 5 == 5) # statement is true but return the false \n",
    "\n",
    "print( not (11 > 3) or (11 > 9 and 9 == 9)) # true true true = return the true"
   ]
  },
  {
   "cell_type": "code",
   "execution_count": 9,
   "id": "70a17066-d37d-4e5e-867a-900ba31374ec",
   "metadata": {},
   "outputs": [
    {
     "data": {
      "text/plain": [
       "True"
      ]
     },
     "execution_count": 9,
     "metadata": {},
     "output_type": "execute_result"
    }
   ],
   "source": [
    "# Q4: Combine all three\n",
    "\n",
    "# Given:\n",
    "\n",
    "marks = 75\n",
    "passed = True\n",
    "\n",
    "# Check this condition:\n",
    "\n",
    "marks > 50 and passed == True or not marks < 40 # all are true condition return the true statement\n",
    "\n",
    "# 👉 Predict the result (True or False)."
   ]
  },
  {
   "cell_type": "markdown",
   "id": "996ccef7-fd70-4e00-b410-694a90f238bd",
   "metadata": {},
   "source": [
    "### 4. Assignment Operators \n",
    "#### Operators that are used to assign a value to a variable, and in some cases, update the variable’s existing value.\n",
    "(8 main)\n",
    "\n",
    "= (Assign value)\n",
    "\n",
    "+= (Add & assign)\n",
    "\n",
    "-= (Subtract & assign)\n",
    "\n",
    "*= (Multiply & assign)\n",
    "\n",
    "/= (Divide & assign)\n",
    "\n",
    "%= (Modulus & assign)\n",
    "\n",
    "**= (Power & assign)\n",
    "\n",
    "//= (Floor divide & assign)"
   ]
  },
  {
   "cell_type": "markdown",
   "id": "1798cd20-54d3-4757-bc9b-da26135b8d7e",
   "metadata": {},
   "source": [
    "#### = (Assign value)"
   ]
  },
  {
   "cell_type": "code",
   "execution_count": 1,
   "id": "54fd2fc7-e5f3-4cb1-9906-e7d651f90523",
   "metadata": {},
   "outputs": [],
   "source": [
    "Num =+3  # shortcut method to create a variable and assign add a value that is add a value of 2 "
   ]
  },
  {
   "cell_type": "code",
   "execution_count": 2,
   "id": "5fd7ecee-ce52-467a-b209-89311849929a",
   "metadata": {},
   "outputs": [
    {
     "data": {
      "text/plain": [
       "3"
      ]
     },
     "execution_count": 2,
     "metadata": {},
     "output_type": "execute_result"
    }
   ],
   "source": [
    "Num # empty variable tha then  "
   ]
  },
  {
   "cell_type": "markdown",
   "id": "5a501614-b3d9-4ef2-984e-50f40fe69a77",
   "metadata": {},
   "source": [
    "#### += (Add & assign)"
   ]
  },
  {
   "cell_type": "code",
   "execution_count": 13,
   "id": "354663cf-3c7b-4e89-9227-a16bc1b218bb",
   "metadata": {},
   "outputs": [
    {
     "data": {
      "text/plain": [
       "2"
      ]
     },
     "execution_count": 13,
     "metadata": {},
     "output_type": "execute_result"
    }
   ],
   "source": [
    "num1 = 2\n",
    "num1"
   ]
  },
  {
   "cell_type": "code",
   "execution_count": 14,
   "id": "205a2ea7-b266-4f3b-8ec3-02744e4ab3f8",
   "metadata": {},
   "outputs": [
    {
     "data": {
      "text/plain": [
       "4"
      ]
     },
     "execution_count": 14,
     "metadata": {},
     "output_type": "execute_result"
    }
   ],
   "source": [
    "num1 + 2 # num1 ko tempurury update kia"
   ]
  },
  {
   "cell_type": "code",
   "execution_count": 15,
   "id": "b74cd2f6-9cd9-4fa9-9fa3-3663adeeea94",
   "metadata": {},
   "outputs": [
    {
     "data": {
      "text/plain": [
       "2"
      ]
     },
     "execution_count": 15,
     "metadata": {},
     "output_type": "execute_result"
    }
   ],
   "source": [
    "num1 # num1 again wohi ha"
   ]
  },
  {
   "cell_type": "code",
   "execution_count": 16,
   "id": "9b385b4f-cfbf-472e-9b9d-04d12331ed15",
   "metadata": {},
   "outputs": [
    {
     "data": {
      "text/plain": [
       "4"
      ]
     },
     "execution_count": 16,
     "metadata": {},
     "output_type": "execute_result"
    }
   ],
   "source": [
    "num1 = num1 + 2 #  num1 ki jo current value hai us me 2 add karke dobara num1 me store kar dena.\n",
    "\n",
    "num1 # call the variable"
   ]
  },
  {
   "cell_type": "code",
   "execution_count": 17,
   "id": "66764312-888f-4762-8f54-6a986dfa9b4a",
   "metadata": {},
   "outputs": [],
   "source": [
    "num1 += 2.1  # shortcut value add and assigning to variable"
   ]
  },
  {
   "cell_type": "code",
   "execution_count": 18,
   "id": "b82d8f99-d8fb-4937-a87f-5e86554c4ea4",
   "metadata": {},
   "outputs": [
    {
     "data": {
      "text/plain": [
       "6.1"
      ]
     },
     "execution_count": 18,
     "metadata": {},
     "output_type": "execute_result"
    }
   ],
   "source": [
    "num1"
   ]
  },
  {
   "cell_type": "markdown",
   "id": "c6957a20-859a-485c-bd86-c9fb51b0018b",
   "metadata": {},
   "source": [
    "#### -= (Subtract & assign)"
   ]
  },
  {
   "cell_type": "code",
   "execution_count": 3,
   "id": "1e8d91e0-f92c-4108-b59f-665c1dc5f3c0",
   "metadata": {},
   "outputs": [
    {
     "data": {
      "text/plain": [
       "3"
      ]
     },
     "execution_count": 3,
     "metadata": {},
     "output_type": "execute_result"
    }
   ],
   "source": [
    "num_2 = 3\n",
    "num_2"
   ]
  },
  {
   "cell_type": "code",
   "execution_count": 4,
   "id": "d9aeb09d-2723-45fd-bea7-a9511d702688",
   "metadata": {},
   "outputs": [
    {
     "data": {
      "text/plain": [
       "1"
      ]
     },
     "execution_count": 4,
     "metadata": {},
     "output_type": "execute_result"
    }
   ],
   "source": [
    "num_2 -= 2 # shortcut value subtraction and assigning to variable\n",
    "num_2"
   ]
  },
  {
   "cell_type": "markdown",
   "id": "f323815e-28be-480a-985b-086b1186d49f",
   "metadata": {},
   "source": [
    "#### *= (Multiply & assign)"
   ]
  },
  {
   "cell_type": "code",
   "execution_count": 5,
   "id": "167fbb77-c3a8-4767-b56e-023889042909",
   "metadata": {},
   "outputs": [
    {
     "data": {
      "text/plain": [
       "6"
      ]
     },
     "execution_count": 5,
     "metadata": {},
     "output_type": "execute_result"
    }
   ],
   "source": [
    "num_2 *= 6  # shortcut value multiplication and assigning to variable\n",
    "num_2"
   ]
  },
  {
   "cell_type": "markdown",
   "id": "4993281a-57b2-4a1f-9c4c-4dffa4f5b56f",
   "metadata": {},
   "source": [
    "#### /= (Divide & assign)"
   ]
  },
  {
   "cell_type": "code",
   "execution_count": 6,
   "id": "121adf51-f207-47be-8686-ef6d2e510096",
   "metadata": {},
   "outputs": [
    {
     "data": {
      "text/plain": [
       "2.0"
      ]
     },
     "execution_count": 6,
     "metadata": {},
     "output_type": "execute_result"
    }
   ],
   "source": [
    "num_2 /= 3  # divide & assigning value to variable\n",
    "num_2"
   ]
  },
  {
   "cell_type": "markdown",
   "id": "85f144f8-fa51-4f50-bd3f-8b84ac74cd86",
   "metadata": {},
   "source": [
    "#### %= (Modulus & assign)"
   ]
  },
  {
   "cell_type": "code",
   "execution_count": 9,
   "id": "be42e36d-3cfe-4ede-9d77-b4da17e5a089",
   "metadata": {},
   "outputs": [
    {
     "data": {
      "text/plain": [
       "7"
      ]
     },
     "execution_count": 9,
     "metadata": {},
     "output_type": "execute_result"
    }
   ],
   "source": [
    "Num_3 =+ 7  # to create a varibale & add value 7\n",
    "\n",
    "Num_3"
   ]
  },
  {
   "cell_type": "code",
   "execution_count": 10,
   "id": "d634800e-0994-43fc-ab39-ee674e34bd6e",
   "metadata": {},
   "outputs": [],
   "source": [
    "Num_3 %= 3 # modulus & reminder & assigning value to variable"
   ]
  },
  {
   "cell_type": "code",
   "execution_count": 11,
   "id": "1886c6f7-105d-4d62-8e2b-c8a325fed38e",
   "metadata": {},
   "outputs": [
    {
     "data": {
      "text/plain": [
       "1"
      ]
     },
     "execution_count": 11,
     "metadata": {},
     "output_type": "execute_result"
    }
   ],
   "source": [
    "Num_3"
   ]
  },
  {
   "cell_type": "markdown",
   "id": "be394a5d-8604-42e9-acf0-71b748b9f029",
   "metadata": {},
   "source": [
    "#### **= (Power & assign)"
   ]
  },
  {
   "cell_type": "code",
   "execution_count": 14,
   "id": "f7023ef2-7ad2-4706-89c4-0b9377c62555",
   "metadata": {},
   "outputs": [
    {
     "data": {
      "text/plain": [
       "3"
      ]
     },
     "execution_count": 14,
     "metadata": {},
     "output_type": "execute_result"
    }
   ],
   "source": [
    "Num_4 = 3\n",
    "Num_4"
   ]
  },
  {
   "cell_type": "code",
   "execution_count": 15,
   "id": "96eaf207-7b15-45a4-ba90-d459d8290d5c",
   "metadata": {},
   "outputs": [
    {
     "data": {
      "text/plain": [
       "27"
      ]
     },
     "execution_count": 15,
     "metadata": {},
     "output_type": "execute_result"
    }
   ],
   "source": [
    "Num_4 = Num_4 ** 3\n",
    "\n",
    "Num_4"
   ]
  },
  {
   "cell_type": "code",
   "execution_count": 18,
   "id": "c808d703-979e-4efa-8ece-4cf5a30f3318",
   "metadata": {},
   "outputs": [
    {
     "data": {
      "text/plain": [
       "3"
      ]
     },
     "execution_count": 18,
     "metadata": {},
     "output_type": "execute_result"
    }
   ],
   "source": [
    "Num_5 = 3 # 2nd variab create\n",
    "Num_5"
   ]
  },
  {
   "cell_type": "code",
   "execution_count": 19,
   "id": "b598a939-c007-45fe-80b6-d70738c3c4f7",
   "metadata": {},
   "outputs": [
    {
     "data": {
      "text/plain": [
       "27"
      ]
     },
     "execution_count": 19,
     "metadata": {},
     "output_type": "execute_result"
    }
   ],
   "source": [
    "Num_5 **= 3 # shortcut\n",
    "\n",
    "Num_5"
   ]
  },
  {
   "cell_type": "markdown",
   "id": "fb7dc639-c76e-4a97-b3b9-15f7698eb501",
   "metadata": {},
   "source": [
    "#### //= (Floor divide & assign)"
   ]
  },
  {
   "cell_type": "code",
   "execution_count": 20,
   "id": "c0da35e3-cce8-4f1e-bebc-f2861bf89720",
   "metadata": {},
   "outputs": [],
   "source": [
    "Num_5 //= 3"
   ]
  },
  {
   "cell_type": "code",
   "execution_count": 21,
   "id": "ca205c20-c429-4a10-9dfa-5446407da82b",
   "metadata": {},
   "outputs": [
    {
     "data": {
      "text/plain": [
       "9"
      ]
     },
     "execution_count": 21,
     "metadata": {},
     "output_type": "execute_result"
    }
   ],
   "source": [
    "Num_5"
   ]
  },
  {
   "cell_type": "markdown",
   "id": "81d8b57a-0198-4798-b95e-6a71f117d02d",
   "metadata": {},
   "source": [
    "### 5. Bitwise Operators (6)\n",
    "(works on bits – binary level)\n",
    "\n",
    "& (AND)\n",
    "\n",
    "| (OR)\n",
    "\n",
    "^ (XOR)\n",
    "\n",
    "~ (NOT / Complement)\n",
    "\n",
    "<< (Left shift)\n",
    "\n",
    ">> (Right shift)"
   ]
  },
  {
   "cell_type": "markdown",
   "id": "427ed095-98d7-4d32-a05e-de24389b7d53",
   "metadata": {},
   "source": [
    "### 6. Membership Operators (2)\n",
    "\n",
    "Membership operators are used to test whether a value is present in a sequence (such as a list, tuple, or string). (returns Ture or False)\n",
    "\n",
    "(1) in\n",
    "(2) not in\n",
    "\n",
    "It is used to check the data types (list, tuple, string, set, dict, array, etc.) in a database to see if there is any one inside."
   ]
  },
  {
   "cell_type": "code",
   "execution_count": 27,
   "id": "250a60f8-c3ab-4a77-a5b9-155c801f11ff",
   "metadata": {},
   "outputs": [
    {
     "name": "stdout",
     "output_type": "stream",
     "text": [
      "I'm trying to learn python and implement it.\n"
     ]
    },
    {
     "data": {
      "text/plain": [
       "True"
      ]
     },
     "execution_count": 27,
     "metadata": {},
     "output_type": "execute_result"
    }
   ],
   "source": [
    "text = \"I'm trying to learn python and implement it.\"\n",
    "print(text)\n",
    "\n",
    "\"python\" in text"
   ]
  },
  {
   "cell_type": "code",
   "execution_count": 28,
   "id": "3b887da8-d893-4267-852a-b5b1664bbc06",
   "metadata": {},
   "outputs": [
    {
     "data": {
      "text/plain": [
       "True"
      ]
     },
     "execution_count": 28,
     "metadata": {},
     "output_type": "execute_result"
    }
   ],
   "source": [
    "\"earn\" in text"
   ]
  },
  {
   "cell_type": "code",
   "execution_count": 29,
   "id": "c851b91d-dec5-4283-a4ad-f2469d317266",
   "metadata": {},
   "outputs": [
    {
     "data": {
      "text/plain": [
       "False"
      ]
     },
     "execution_count": 29,
     "metadata": {},
     "output_type": "execute_result"
    }
   ],
   "source": [
    "\"Implement\" in text # I capital ha => return false "
   ]
  },
  {
   "cell_type": "code",
   "execution_count": 26,
   "id": "2af6c91a-499a-4f02-b4fc-427431bc152c",
   "metadata": {},
   "outputs": [
    {
     "data": {
      "text/plain": [
       "True"
      ]
     },
     "execution_count": 26,
     "metadata": {},
     "output_type": "execute_result"
    }
   ],
   "source": [
    "sentence = \"Learn Python\"\n",
    "\n",
    "\"Python\" in sentence"
   ]
  },
  {
   "cell_type": "markdown",
   "id": "447c034f-f020-453e-882b-8a736965aaa7",
   "metadata": {},
   "source": [
    "#### not in"
   ]
  },
  {
   "cell_type": "code",
   "execution_count": 31,
   "id": "b64884ac-fa4e-4f54-97fc-d63cff1090b7",
   "metadata": {},
   "outputs": [
    {
     "data": {
      "text/plain": [
       "False"
      ]
     },
     "execution_count": 31,
     "metadata": {},
     "output_type": "execute_result"
    }
   ],
   "source": [
    "\"Python\" not in sentence"
   ]
  },
  {
   "cell_type": "code",
   "execution_count": 35,
   "id": "57dc6368-4c0e-4acf-9b51-39ce20dffa0d",
   "metadata": {},
   "outputs": [
    {
     "name": "stdout",
     "output_type": "stream",
     "text": [
      "True\n",
      "True\n"
     ]
    }
   ],
   "source": [
    "text2 = \"Python Programming\" # initialize a variable \n",
    "\n",
    "print(\"Python\" in text2) # yes included\n",
    "print(\"Java\" not in text2) # not included"
   ]
  },
  {
   "cell_type": "code",
   "execution_count": 40,
   "id": "e3befab9-f829-4353-a301-e7ea058b2ae7",
   "metadata": {},
   "outputs": [
    {
     "name": "stdout",
     "output_type": "stream",
     "text": [
      "False\n",
      "True\n",
      "True\n",
      "False\n"
     ]
    }
   ],
   "source": [
    "fruits = [\"Mango\", \"Banana\", \"Apple\", \"Pineapple\"]\n",
    "\n",
    "print(\"watermellon\" in fruits)\n",
    "print(\"Banana\" in fruits)\n",
    "\n",
    "print(\"casteredapple\" not in fruits)\n",
    "print(\"Pineapple\" not in fruits)"
   ]
  },
  {
   "cell_type": "markdown",
   "id": "76690d83-fdf4-44ca-99d3-672e58b14337",
   "metadata": {},
   "source": [
    "### 7. Identity Operators (2)\n",
    "\n",
    "is\n",
    "\n",
    "is not"
   ]
  },
  {
   "cell_type": "markdown",
   "id": "26f06625-db86-41c1-a754-49d5327086c0",
   "metadata": {},
   "source": [
    "#### Practice Questions"
   ]
  },
  {
   "cell_type": "code",
   "execution_count": 41,
   "id": "c30389e9-fb1f-4589-bd28-dc92908e759e",
   "metadata": {},
   "outputs": [
    {
     "name": "stdout",
     "output_type": "stream",
     "text": [
      "True\n"
     ]
    }
   ],
   "source": [
    "# Check if a person is old enough to vote (age >= 18). Just print the Boolean result.\n",
    "age = 20\n",
    "\n",
    "print(age >= 18)"
   ]
  },
  {
   "cell_type": "code",
   "execution_count": 57,
   "id": "349a68b2-f59c-4f81-a8b1-c9339c52f184",
   "metadata": {},
   "outputs": [
    {
     "name": "stdout",
     "output_type": "stream",
     "text": [
      "Anas Irfan\n"
     ]
    },
    {
     "data": {
      "text/plain": [
       "False"
      ]
     },
     "execution_count": 57,
     "metadata": {},
     "output_type": "execute_result"
    }
   ],
   "source": [
    "# Compare the lengths of two strings and print if they are equal\n",
    "\n",
    "First_Name = \"Anas\"\n",
    "Last_Name = \"Irfan\"\n",
    "\n",
    "print(First_Name, Last_Name)\n",
    "\n",
    "len(First_Name) == len(Last_Name)    # 3no me if else ya elif jo lgay lgao"
   ]
  },
  {
   "cell_type": "code",
   "execution_count": 25,
   "id": "9aa08693-4394-4cbf-9702-dfd2c706fb5e",
   "metadata": {},
   "outputs": [
    {
     "name": "stdin",
     "output_type": "stream",
     "text": [
      "Enter a number:  1.4\n"
     ]
    },
    {
     "name": "stdout",
     "output_type": "stream",
     "text": [
      "Invalid input! Please enter a valid number.\n"
     ]
    }
   ],
   "source": [
    "# Is a number divisible by 3 or 5? \n",
    "\n",
    "try:\n",
    "    userNum = int(input(\"Enter a number: \"))\n",
    "    \n",
    "    if userNum % 3 == 0 or userNum % 5 == 0:\n",
    "        print(f\"{userNum} is completely divisible\")\n",
    "    else:\n",
    "        print(f\"{userNum} is not divisible\")\n",
    "\n",
    "except ValueError:\n",
    "    print(\"Invalid input! Please enter a valid number.\")\n"
   ]
  },
  {
   "cell_type": "code",
   "execution_count": 2,
   "id": "7a1b0d22-3035-4762-aa68-fb15deefc978",
   "metadata": {},
   "outputs": [
    {
     "data": {
      "text/plain": [
       "True"
      ]
     },
     "execution_count": 2,
     "metadata": {},
     "output_type": "execute_result"
    }
   ],
   "source": [
    "# Check if the word 'code' is in the sentence\n",
    "sentence = \"I love to write code every day\"\n",
    "\"code \" in sentence"
   ]
  },
  {
   "cell_type": "markdown",
   "id": "3ee47ecd-a664-45d9-a701-805a1e736047",
   "metadata": {},
   "source": [
    "#### Input Function"
   ]
  },
  {
   "cell_type": "code",
   "execution_count": 47,
   "id": "47ede295-3347-4a8e-84f0-b277f6ea6daf",
   "metadata": {},
   "outputs": [],
   "source": [
    "# even or odd statement"
   ]
  },
  {
   "cell_type": "code",
   "execution_count": 51,
   "id": "ca3b6bdd-bf4b-4563-ba7e-1b9f16768da5",
   "metadata": {},
   "outputs": [
    {
     "name": "stdin",
     "output_type": "stream",
     "text": [
      "Enter a Number : 12\n"
     ]
    },
    {
     "name": "stdout",
     "output_type": "stream",
     "text": [
      "Even Number\n"
     ]
    }
   ],
   "source": [
    "try:\n",
    "    user_Number = int(input(\"Enter a Number :\"))\n",
    "\n",
    "    if user_Number % 2 == 0 and user_Number != 0:\n",
    "        print(\"Even Number\")\n",
    "    elif user_Number % 2 == 1:\n",
    "        print(\"Odd Number\")\n",
    "    else:\n",
    "        print(\"The number is Zero\")\n",
    "\n",
    "except ValueError:\n",
    "    print(\"Invalid input! Please enter a valid number.\")"
   ]
  },
  {
   "cell_type": "markdown",
   "id": "f2b7081f-d1b9-4265-b00d-c6ca7f6efdc3",
   "metadata": {},
   "source": [
    "### IF-ELIF-ELSE"
   ]
  },
  {
   "cell_type": "code",
   "execution_count": null,
   "id": "0973b959-6d04-4ec6-9b63-eb5bdabf7d84",
   "metadata": {},
   "outputs": [],
   "source": []
  },
  {
   "cell_type": "code",
   "execution_count": null,
   "id": "1d992ad3-9ab8-4512-8ec4-c0d84b673fdc",
   "metadata": {},
   "outputs": [],
   "source": [
    "# elif grading bh 1 he ha"
   ]
  },
  {
   "cell_type": "markdown",
   "id": "35515143-b718-4a72-b0ea-83595c3b00c6",
   "metadata": {},
   "source": [
    "#### . Grading system"
   ]
  },
  {
   "cell_type": "markdown",
   "id": "4cd05139-974b-4b41-acdc-3697560cecc0",
   "metadata": {},
   "source": [
    "### Nested IF"
   ]
  },
  {
   "cell_type": "code",
   "execution_count": null,
   "id": "50ee7558-df37-4a0e-93ad-fcbef4a4b3e2",
   "metadata": {},
   "outputs": [],
   "source": []
  }
 ],
 "metadata": {
  "kernelspec": {
   "display_name": "Python 3 (ipykernel)",
   "language": "python",
   "name": "python3"
  },
  "language_info": {
   "codemirror_mode": {
    "name": "ipython",
    "version": 3
   },
   "file_extension": ".py",
   "mimetype": "text/x-python",
   "name": "python",
   "nbconvert_exporter": "python",
   "pygments_lexer": "ipython3",
   "version": "3.13.5"
  }
 },
 "nbformat": 4,
 "nbformat_minor": 5
}
