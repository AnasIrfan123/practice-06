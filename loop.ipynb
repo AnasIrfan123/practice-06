{
 "cells": [
  {
   "cell_type": "markdown",
   "id": "b1386c99-650c-46d2-a713-4eef7df4c9f9",
   "metadata": {},
   "source": [
    "## For Loop --"
   ]
  },
  {
   "cell_type": "code",
   "execution_count": 9,
   "id": "d23cc58a-cb53-4a77-9871-050bc6ed0e2f",
   "metadata": {},
   "outputs": [
    {
     "name": "stdout",
     "output_type": "stream",
     "text": [
      "Banana\n",
      "Apple\n",
      "Mango\n"
     ]
    }
   ],
   "source": [
    "fav_fruits = [\"Banana\",\"Apple\",\"Mango\"]\n",
    "\n",
    "for i in fav_fruits:  \n",
    "    print(i)\n",
    "\n",
    "# for         → keyword, used to start a loop.\n",
    "\n",
    "# i           → loop variable, it takes each item from the list one by one.\n",
    "\n",
    "# in          → keyword, it tells the loop to go through the collection.\n",
    "\n",
    "# fav_fruits  → the collection (a list) that contains the items \"Banana\", \"Apple\", \"Mango\"."
   ]
  },
  {
   "cell_type": "code",
   "execution_count": 10,
   "id": "e101773e-6a00-48f8-a3d9-85b6dedf2651",
   "metadata": {},
   "outputs": [
    {
     "name": "stdout",
     "output_type": "stream",
     "text": [
      "l\n",
      "e\n",
      "a\n",
      "r\n",
      "n\n",
      "i\n",
      "n\n",
      "g\n",
      " \n",
      "l\n",
      "o\n",
      "o\n",
      "p\n"
     ]
    }
   ],
   "source": [
    "kuch = \"learning loop\"\n",
    "\n",
    "for i in kuch:\n",
    "    print(i)"
   ]
  },
  {
   "cell_type": "markdown",
   "id": "a2fca0ba-d67b-4d49-b06a-fda1a608ae5c",
   "metadata": {},
   "source": [
    "## While Loop --"
   ]
  },
  {
   "cell_type": "code",
   "execution_count": 16,
   "id": "ab5434c0-64f0-4a9f-9b1b-70c93bf6982d",
   "metadata": {},
   "outputs": [
    {
     "name": "stdout",
     "output_type": "stream",
     "text": [
      "1\n",
      "2\n",
      "3\n",
      "4\n",
      "5\n"
     ]
    }
   ],
   "source": [
    "x = 1  \n",
    "\n",
    "while x <= 5:  \n",
    "    print(x)  \n",
    "    x = x + 1\n",
    "\n",
    "# while → keyword, used to start a while loop.\n",
    "\n",
    "# x <= 5 → condition. The loop will keep running as long as this condition is True.\n",
    "\n",
    "# x → loop variable, it starts at 1 and changes every time.\n",
    "\n",
    "# x = x + 1 → update step, increases the value of x so that the loop can eventually stop.\n",
    "\n",
    "# First check: x = 1 → condition 1 <= 3 is True → print 1.\n",
    "# Then x = 2 → condition 2 <= 3 is True → print 2.\n",
    "# Then x = 3 → condition 3 <= 3 is True → print 3.\n",
    "# Then x = 6 → condition 6 <= 5 is False → loop stops."
   ]
  },
  {
   "cell_type": "code",
   "execution_count": 13,
   "id": "98867ff0-2407-4d16-8a38-007006fe70ee",
   "metadata": {},
   "outputs": [
    {
     "name": "stdout",
     "output_type": "stream",
     "text": [
      "Count: 0\n",
      "Count: 1\n",
      "Count: 2\n",
      "Count: 3\n",
      "Count: 4\n"
     ]
    }
   ],
   "source": [
    "count = 0\n",
    "while count < 5:\n",
    "    print(\"Count:\", count)\n",
    "    count += 1\n"
   ]
  }
 ],
 "metadata": {
  "kernelspec": {
   "display_name": "Python 3 (ipykernel)",
   "language": "python",
   "name": "python3"
  },
  "language_info": {
   "codemirror_mode": {
    "name": "ipython",
    "version": 3
   },
   "file_extension": ".py",
   "mimetype": "text/x-python",
   "name": "python",
   "nbconvert_exporter": "python",
   "pygments_lexer": "ipython3",
   "version": "3.13.5"
  }
 },
 "nbformat": 4,
 "nbformat_minor": 5
}
